{
 "cells": [
  {
   "cell_type": "code",
   "execution_count": 1,
   "metadata": {},
   "outputs": [],
   "source": [
    "def find_index(data, value):\n",
    "    # Find the index of the tuple containing the value\n",
    "    result = next((i for i, t in enumerate(data) if value in t), None)\n",
    "    if result is not None:\n",
    "        return result\n",
    "    else:\n",
    "        print(f\"Value {value} not found\")\n",
    "        \n",
    "def PermToQuiver(sigmaB, sigmaW):\n",
    "    d = len(sigmaB.tuple())\n",
    "    dd = 2*d\n",
    "\n",
    "    a = list(sigmaB.tuple())\n",
    "    b = list(sigmaW.tuple())\n",
    "\n",
    "    a = [i+d for i in a]\n",
    "\n",
    "    c = a + b\n",
    "\n",
    "    P = SymmetricGroup(dd)\n",
    "\n",
    "    q = P(c).cycle_tuples()\n",
    "\n",
    "\n",
    "    n_v = len(q)\n",
    "\n",
    "    inc_list = {str(i): [] for i in range(1, n_v + 1)}\n",
    "\n",
    "    for i in range(1, d+1, 1):\n",
    "        minus = find_index(q, i) + 1\n",
    "        plus = find_index(q, i+d) + 1\n",
    "        \n",
    "        inc_list[str(minus)].append(plus)\n",
    "    \n",
    "    # Format the dictionary as \"1->3, 1->2, 1->2, ...\"\n",
    "    formatted_list = [f\"{key}->{value}\" for key, values in inc_list.items() for value in values]\n",
    "\n",
    "    # Join the formatted strings with commas\n",
    "    formatted_string = ', '.join(formatted_list)\n",
    "    \n",
    "    return formatted_string\n",
    "        \n",
    "    \n",
    "    \n",
    "    "
   ]
  },
  {
   "cell_type": "code",
   "execution_count": 2,
   "metadata": {},
   "outputs": [
    {
     "data": {
      "text/plain": [
       "'1->9, 1->7, 2->6, 2->7, 2->8, 3->1, 3->4, 3->2, 4->2, 4->8, 4->5, 5->10, 5->3, 6->1, 6->4, 6->10, 7->6, 7->3, 7->4, 8->3, 8->6, 8->9, 9->2, 9->5, 10->8, 10->7'"
      ]
     },
     "execution_count": 2,
     "metadata": {},
     "output_type": "execute_result"
    }
   ],
   "source": [
    "# Usage example\n",
    "d = 26\n",
    "P = SymmetricGroup(d)\n",
    "sigmaB = P([(1,3,21,14),(2,4,8),(5,19,24,26),(6,7,25),(9,17,11),(10,23,18),(12,22,16),(13,15,20)])\n",
    "sigmaW = P([(1,10,2,6),(3,25,16),(4,12,24),(5,20,23,14),(7,13,26),(8,17,15),(9,22,18),(11,19,21)])\n",
    "\n",
    "PermToQuiver(sigmaB, sigmaW)"
   ]
  }
 ],
 "metadata": {
  "kernelspec": {
   "display_name": "SageMath 10.5",
   "language": "sage",
   "name": "SageMath-10.5"
  },
  "language_info": {
   "codemirror_mode": {
    "name": "ipython",
    "version": 3
   },
   "file_extension": ".py",
   "mimetype": "text/x-python",
   "name": "python",
   "nbconvert_exporter": "python",
   "pygments_lexer": "ipython3",
   "version": "3.12.5"
  }
 },
 "nbformat": 4,
 "nbformat_minor": 2
}
