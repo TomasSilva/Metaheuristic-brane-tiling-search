{
 "cells": [
  {
   "cell_type": "code",
   "execution_count": 1,
   "metadata": {
    "vscode": {
     "languageId": "python"
    }
   },
   "outputs": [],
   "source": [
    "import random\n",
    "from simanneal import Annealer\n",
    "\n",
    "load(\"./consistency_conditions_scores.sage\")\n",
    "\n",
    "\n",
    "def fitness(individual):\n",
    "    d = len(individual[0].tuple())\n",
    "    P = SymmetricGroup(d)\n",
    "    sigmaB = P(individual[0])\n",
    "    sigmaW = P(individual[1])\n",
    "    \n",
    "    return 6 - (PT2_Score(sigmaB, sigmaW, d) + PT3a_Score(sigmaB, sigmaW, d) + PT3b_Score(sigmaB, sigmaW, d) + PT5_Score(sigmaB, sigmaW, d) + CONS1_Score(sigmaB, sigmaW, d) + CONS2_Score(sigmaB, sigmaW, d))\n",
    "\n",
    "\n",
    "class ConsistentTripleFinder(Annealer):\n",
    "    \n",
    "    def __init__(self, state):\n",
    "        super(ConsistentTripleFinder, self).__init__(state)  \n",
    "         \n",
    "    def move(self):\n",
    "        initial_energy = self.energy()\n",
    "        \n",
    "        d = len(self.state[0].tuple())\n",
    "        P = SymmetricGroup(d)\n",
    "        \n",
    "        sigmaB = []\n",
    "        sigmaW = []\n",
    "        \n",
    "        num_cicles_B = len(self.state[0].cycle_tuples(singletons = True))\n",
    "        num_cicles_W = len(self.state[1].cycle_tuples(singletons = True))\n",
    "        \n",
    "        for i in range(num_cicles_B):\n",
    "            sigmaB.append(list(self.state[0].cycle_tuples(singletons = True)[i]))\n",
    "        \n",
    "        for i in range(num_cicles_W):\n",
    "            sigmaW.append(list(self.state[1].cycle_tuples(singletons = True)[i]))\n",
    "        \n",
    "        # choose two random cicles in B and W\n",
    "        c_i_B = random.randint(0, num_cicles_B - 1)\n",
    "        c_j_B = random.randint(0, num_cicles_B - 1)\n",
    "        c_i_W = random.randint(0, num_cicles_W - 1)\n",
    "        c_j_W = random.randint(0, num_cicles_W - 1)\n",
    "        \n",
    "        # choose random elements in the cicles\n",
    "        i_B = random.randint(0, len(self.state[0].cycle_tuples(singletons = True)[c_i_B]) - 1)\n",
    "        j_B = random.randint(0, len(self.state[0].cycle_tuples(singletons = True)[c_j_B]) - 1)\n",
    "        i_W = random.randint(0, len(self.state[1].cycle_tuples(singletons = True)[c_i_W]) - 1)\n",
    "        j_W = random.randint(0, len(self.state[1].cycle_tuples(singletons = True)[c_j_W]) - 1)\n",
    "        \n",
    "        if random.random() < 0.5:\n",
    "            sigmaB[c_i_B][i_B], sigmaB[c_j_B][j_B] = sigmaB[c_j_B][j_B], sigmaB[c_i_B][i_B]\n",
    "        else:\n",
    "            sigmaW[c_i_W][i_W], sigmaW[c_j_W][j_W] = sigmaW[c_j_W][j_W], sigmaW[c_i_W][i_W]\n",
    "        \n",
    "        sigmaB_t = [tuple(cycle) for cycle in sigmaB]\n",
    "        sigmaW_t = [tuple(cycle) for cycle in sigmaW]\n",
    "        \n",
    "        self.state = [P(sigmaB_t), P(sigmaW_t)]\n",
    "        \n",
    "        E = self.energy()\n",
    "       \n",
    "       \n",
    "        return E - initial_energy    \n",
    "\n",
    "    def energy(self):\n",
    "        return fitness(self.state)\n",
    "    \n",
    "    "
   ]
  },
  {
   "cell_type": "code",
   "execution_count": null,
   "metadata": {
    "vscode": {
     "languageId": "python"
    }
   },
   "outputs": [
    {
     "name": "stderr",
     "output_type": "stream",
     "text": [
      " Temperature        Energy    Accept   Improve     Elapsed   Remaining\n",
      "     0.72000          2.72    96.35%    45.85%     0:25:44     0:38:36"
     ]
    }
   ],
   "source": [
    "# Number of quantum fields\n",
    "d = 26\n",
    "P = SymmetricGroup(d)\n",
    "\n",
    "# Initial seeds\n",
    "# Observe the initial cycle-type of the seeds\n",
    "ini_seed1 = P([(1,2,3),(4,5,6),(7,8,9),(10,11,12),(13,14,15),(16,17,18),(19,20,21,22),(23,24,25,26)])\n",
    "ini_seed2 = P([(1,2,3),(4,5,6),(7,8,9),(10,11,12),(13,14,15),(16,17,18),(19,20,21,22),(23,24,25,26)])\n",
    "\n",
    "init_state = [ini_seed1, ini_seed2]\n",
    "\n",
    "sol = ConsistentTripleFinder(init_state)\n",
    "\n",
    "# Increase time for more iterations\n",
    "sol.set_schedule(sol.auto(minutes=1))  \n",
    "sol.copy_strategy = \"deepcopy\"\n",
    "state, e = sol.anneal()\n",
    "\n",
    "print(\"------\")\n",
    "print(state)\n",
    "print(e)\n"
   ]
  },
  {
   "cell_type": "code",
   "execution_count": 10,
   "metadata": {
    "vscode": {
     "languageId": "python"
    }
   },
   "outputs": [
    {
     "data": {
      "text/plain": [
       "(True, True, True, True, True, True)"
      ]
     },
     "execution_count": 10,
     "metadata": {},
     "output_type": "execute_result"
    }
   ],
   "source": [
    "# Check the consistency of our new example\n",
    "\n",
    "load(\"./consistency_conditions_binary.sage\")\n",
    "\n",
    "d = 26\n",
    "P = SymmetricGroup(d)\n",
    "sigmaB = P([(1,3,21,14),(2,4,8),(5,19,24,26),(6,7,25),(9,17,11),(10,23,18),(12,22,16),(13,15,20)])\n",
    "sigmaW = P([(1,10,2,6),(3,25,16),(4,12,24),(5,20,23,14),(7,13,26),(8,17,15),(9,22,18),(11,19,21)])\n",
    "\n",
    "PT2(sigmaB, sigmaW, d), PT3a(sigmaB, sigmaW, d), PT3b(sigmaB, sigmaW, d), PT5(sigmaB, sigmaW, d), CONS1(sigmaB, sigmaW, d), CONS2(sigmaB, sigmaW, d)"
   ]
  }
 ],
 "metadata": {
  "kernelspec": {
   "display_name": "SageMath 10.4",
   "language": "sage",
   "name": "SageMath-10.4"
  },
  "language_info": {
   "codemirror_mode": {
    "name": "ipython",
    "version": 3
   },
   "file_extension": ".py",
   "mimetype": "text/x-python",
   "name": "sage",
   "nbconvert_exporter": "python",
   "pygments_lexer": "ipython3",
   "version": "3.12.4"
  }
 },
 "nbformat": 4,
 "nbformat_minor": 2
}
